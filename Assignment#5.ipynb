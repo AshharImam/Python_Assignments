{
 "cells": [
  {
   "cell_type": "code",
   "execution_count": 3,
   "metadata": {},
   "outputs": [
    {
     "name": "stdout",
     "output_type": "stream",
     "text": [
      "Enter number here5\n",
      "120\n"
     ]
    }
   ],
   "source": [
    "# Question:1\n",
    "# Write a Python function to calculate the factorial of a number (a non-negative\n",
    "# integer). The function accepts the number as an argument.\n",
    "def fact(n):\n",
    "#     if(n==1):\n",
    "#         return 1\n",
    "    res = 1\n",
    "    if(n>0):\n",
    "        res=n*fact(n-1)\n",
    "    return res\n",
    "\n",
    "n=int(input(\"Enter number here\"))\n",
    "print(fact(n))"
   ]
  },
  {
   "cell_type": "code",
   "execution_count": 4,
   "metadata": {},
   "outputs": [
    {
     "name": "stdout",
     "output_type": "stream",
     "text": [
      "Enter a stringAnd Here we go, Ahmed\n",
      "3 is the number of upper cases,13 is the number of lower case\n"
     ]
    }
   ],
   "source": [
    "# Question:2\n",
    "# Write a Python function that accepts a string and calculate the number of upper\n",
    "# case letters and lower case letters.\n",
    "\n",
    "def chk(word):\n",
    "    u=0\n",
    "    l=0\n",
    "    for c in word:\n",
    "        if(c.isupper()):\n",
    "            u+=1\n",
    "        if(c.islower()):\n",
    "            l+=1\n",
    "    print(str(u)+\" is the number of upper cases,\"+str(l)+\" is the number of lower case\")\n",
    "word=input(\"Enter a string\")\n",
    "chk(word)\n",
    "            "
   ]
  },
  {
   "cell_type": "code",
   "execution_count": 5,
   "metadata": {},
   "outputs": [
    {
     "name": "stdout",
     "output_type": "stream",
     "text": [
      "26\n",
      "28\n",
      "30\n"
     ]
    }
   ],
   "source": [
    "# Question:3\n",
    "# Write a Python function to print the even numbers from a given list.\n",
    "def chkEven():\n",
    "    numList=[25,26,27,28,29,30,31]\n",
    "    for i in numList:\n",
    "        if(i%2==0):\n",
    "            \n",
    "            print(i)\n",
    "chkEven()\n",
    "            "
   ]
  },
  {
   "cell_type": "code",
   "execution_count": 6,
   "metadata": {},
   "outputs": [
    {
     "name": "stdout",
     "output_type": "stream",
     "text": [
      "Enter any string to check Palindrome: cavvac\n",
      "string is Palindrome\n"
     ]
    }
   ],
   "source": [
    "# Question:4\n",
    "# Write a Python function that checks whether a passed string is palindrome or not.\n",
    "# Note: A palindrome is a word, phrase, or sequence that reads the same\n",
    "# backward as forward, e.g., madam\n",
    "\n",
    "def chk(string):\n",
    "    \n",
    "    if string==string[::-1]:\n",
    "        print(\"string is Palindrome\")\n",
    "    else:\n",
    "        print(\"string is not Palindrome\")\n",
    "word=input(\"Enter any string to check Palindrome: \")\n",
    "chk(word)"
   ]
  },
  {
   "cell_type": "code",
   "execution_count": 7,
   "metadata": {},
   "outputs": [
    {
     "name": "stdout",
     "output_type": "stream",
     "text": [
      "Enter number to check107\n",
      "Number is prime\n"
     ]
    }
   ],
   "source": [
    "# Question:5\n",
    "# Write a Python function that takes a number as a parameter and check the\n",
    "# number is prime or not.\n",
    "def primeOrNot(m):\n",
    "    chk=False\n",
    "    while(m>1):\n",
    "        if n%m==0:\n",
    "            chk=True\n",
    "            break\n",
    "        m-=1\n",
    "    return chk\n",
    "n=int(input(\"Enter number to check\"))\n",
    "m=n-1\n",
    "q=primeOrNot(m)\n",
    "if(q==True):\n",
    "    print(\"Number is not prime\")\n",
    "else:\n",
    "    print(\"Number is prime\")"
   ]
  },
  {
   "cell_type": "code",
   "execution_count": 8,
   "metadata": {},
   "outputs": [
    {
     "name": "stdout",
     "output_type": "stream",
     "text": [
      "fruits\n",
      "vegetables\n",
      "meat\n",
      "keyboard\n",
      "mouse\n",
      "chair\n"
     ]
    }
   ],
   "source": [
    "# Question: 6\n",
    "# Suppose a customer is shopping in a market and you need to print all the items\n",
    "# which user bought from market.\n",
    "# Write a function which accepts the multiple arguments of user shopping list and\n",
    "# print all the items which user bought from market.\n",
    "\n",
    "def shopList(*items):\n",
    "    for i in items:\n",
    "        print(i)\n",
    "shopList(\"fruits\",\"vegetables\",\"meat\",\"keyboard\",\"mouse\",\"chair\")"
   ]
  },
  {
   "cell_type": "code",
   "execution_count": null,
   "metadata": {},
   "outputs": [],
   "source": []
  }
 ],
 "metadata": {
  "kernelspec": {
   "display_name": "Python 3",
   "language": "python",
   "name": "python3"
  }
 },
 "nbformat": 4,
 "nbformat_minor": 2
}
