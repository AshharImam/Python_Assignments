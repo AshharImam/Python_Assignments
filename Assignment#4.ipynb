{
 "cells": [
  {
   "cell_type": "code",
   "execution_count": 1,
   "metadata": {},
   "outputs": [
    {
     "name": "stdout",
     "output_type": "stream",
     "text": [
      "Steve\n",
      "Watson\n",
      "27\n",
      "New York\n",
      "{'first_name': 'Steve', 'last_name': 'Watson', 'age': 27, 'city': 'New York', 'qualification': 'Bachelors'}\n",
      "{'first_name': 'Steve', 'last_name': 'Watson', 'age': 27, 'city': 'New York', 'qualification': 'Masters'}\n",
      "{'first_name': 'Steve', 'last_name': 'Watson', 'age': 27, 'city': 'New York'}\n"
     ]
    }
   ],
   "source": [
    "#Question 01\n",
    "costumer1={\"first_name\":\"Steve\",\"last_name\":\"Watson\",\"age\":27,\"city\":\"New York\"}\n",
    "for each_value in costumer1.values():\n",
    "    print(each_value)\n",
    "costumer1[\"qualification\"]=\"Bachelors\"\n",
    "print(costumer1)\n",
    "costumer1[\"qualification\"]=\"Masters\"\n",
    "print(costumer1)\n",
    "del costumer1[\"qualification\"]\n",
    "print(costumer1)"
   ]
  },
  {
   "cell_type": "code",
   "execution_count": 13,
   "metadata": {},
   "outputs": [
    {
     "name": "stdout",
     "output_type": "stream",
     "text": [
      "Karachi:\n",
      "Country: Pakistan\n",
      "Population: 14.91 million\n",
      "Fact: It is the Sixth largest city in the world by city population.\n",
      "Sydney:\n",
      "Country: Austrlia\n",
      "Population: 5.23 million\n",
      "Fact:  It is the 12th most expensive city with property prices averaging USD8,717 per square metre.\n",
      "Rio:\n",
      "Country: Brazil\n",
      "Population: 6.32 million\n",
      "Fact: Rio de Janeiro has the world's bluest sky.\n"
     ]
    }
   ],
   "source": [
    "#Question 02\n",
    "cities={\n",
    "    \"Karachi\":{\"Country\":\"Pakistan\",\"Population\":\"14.91 million\",\"Fact\":\"It is the Sixth largest city in the world by city population.\"},\n",
    "    \"Sydney\":{\"Country\":\"Austrlia\",\"Population\":\"5.23 million\",\"Fact\":\" It is the 12th most expensive city with property prices averaging USD8,717 per square metre.\"},\n",
    "    \"Rio\":{\"Country\":\"Brazil\",\"Population\":\"6.32 million\",\"Fact\":\"Rio de Janeiro has the world's bluest sky.\"}\n",
    "}\n",
    "for city in cities.keys():\n",
    "    print(city+\":\")\n",
    "    val=cities[city]\n",
    "    for n in val.keys():\n",
    "        m=val[n]\n",
    "        print(n+\": \"+m)"
   ]
  },
  {
   "cell_type": "code",
   "execution_count": 21,
   "metadata": {},
   "outputs": [
    {
     "name": "stdout",
     "output_type": "stream",
     "text": [
      "Enter 0 to exit\n",
      "Enter age to generate price of tickets\n",
      "None1\n",
      "ticket is free\n",
      "Enter age to generate price of tickets\n",
      "None2\n",
      "ticket is free\n",
      "Enter age to generate price of tickets\n",
      "None3\n",
      "Enter age to generate price of tickets\n",
      "None4\n",
      "ticket is $10\n",
      "Enter age to generate price of tickets\n",
      "None-3\n"
     ]
    }
   ],
   "source": [
    "#Queston# 03:\n",
    "#A movie theater charges different ticket prices depending on a person’s age. If a person is under the age\n",
    "#of 3, the ticket is free; if they are between 3 and 12, the ticket is $10; and if they are over age 12, the\n",
    "#ticket is $15. Write a loop in which you ask users their age, and then tell them the cost of their movie\n",
    "print(\"Enter 0 to exit\")\n",
    "i=10\n",
    "while i>0:\n",
    "    i=int(input(print(\"Enter age to generate price of tickets\")))\n",
    "    if i < 3 and i>0:\n",
    "        print(\"ticket is free\")\n",
    "    elif i>3 and i <12:\n",
    "        print(\"ticket is $10\")\n",
    "    elif i > 11:\n",
    "        print(\"ticket is $15\")\n",
    "    \n"
   ]
  },
  {
   "cell_type": "code",
   "execution_count": 1,
   "metadata": {},
   "outputs": [
    {
     "name": "stdout",
     "output_type": "stream",
     "text": [
      "One of my favourite book is Serlock Holmes\n"
     ]
    }
   ],
   "source": [
    "#Question 04:\n",
    "#Write a function called favorite_book() that accepts one parameter, title.\n",
    "#The function should print a message, such as One of my favorite books is Alice in Wonderland.\n",
    "#Call the function, making sure to include a book title as an argument in the function call.\n",
    "def favourite_book(title):\n",
    "    print(\"One of my favourite book is \"+title)\n",
    "\n",
    "favourite_book(\"Serlock Holmes\")"
   ]
  },
  {
   "cell_type": "code",
   "execution_count": 9,
   "metadata": {},
   "outputs": [
    {
     "name": "stdout",
     "output_type": "stream",
     "text": [
      "Guess a number\n",
      "None12\n",
      "Number is low\n",
      "Guess a number\n",
      "None15\n",
      "Number is low\n",
      "Guess a number\n",
      "None20\n",
      "Number is high\n",
      "You Lose!\n"
     ]
    }
   ],
   "source": [
    "#Question5:\n",
    "#Guess the number game\n",
    "#Write a program which randomly generate a number between 1 to 30 and ask the user in input field to\n",
    "#guess the correct number. Give three chances to user guess the number and also give hint to user if\n",
    "#hidden number is greater or smaller than the number he given to input field.\n",
    "import random\n",
    "gTaken=0\n",
    "number=random.randint(1,30)\n",
    "while gTaken<3:\n",
    "    gNumber=int(input(print(\"Guess a number\")))\n",
    "    gTaken=gTaken+1\n",
    "    if gNumber<number:\n",
    "        print(\"Number is low\")\n",
    "    elif gNumber>number:\n",
    "        print(\"Number is high\")\n",
    "    elif gNumber==number:\n",
    "        break\n",
    "if gNumber==number:\n",
    "    print(\"Congratulation! you guessed the number right in \"+str(gTaken)+\"guesses\")\n",
    "else:\n",
    "    print(\"You Lose!\")\n",
    "\n",
    "    \n",
    "    "
   ]
  }
 ],
 "metadata": {
  "kernelspec": {
   "display_name": "Python 3",
   "language": "python",
   "name": "python3"
  },
  "language_info": {
   "codemirror_mode": {
    "name": "ipython",
    "version": 3
   },
   "file_extension": ".py",
   "mimetype": "text/x-python",
   "name": "python",
   "nbconvert_exporter": "python",
   "pygments_lexer": "ipython3",
   "version": "3.7.1"
  }
 },
 "nbformat": 4,
 "nbformat_minor": 2
}
